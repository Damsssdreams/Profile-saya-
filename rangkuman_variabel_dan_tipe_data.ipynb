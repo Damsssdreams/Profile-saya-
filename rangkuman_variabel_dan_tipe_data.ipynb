{
  "nbformat": 4,
  "nbformat_minor": 0,
  "metadata": {
    "colab": {
      "provenance": [],
      "authorship_tag": "ABX9TyPYkJVJLN6ZIVb34yHJ9b+V",
      "include_colab_link": true
    },
    "kernelspec": {
      "name": "python3",
      "display_name": "Python 3"
    },
    "language_info": {
      "name": "python"
    }
  },
  "cells": [
    {
      "cell_type": "markdown",
      "metadata": {
        "id": "view-in-github",
        "colab_type": "text"
      },
      "source": [
        "<a href=\"https://colab.research.google.com/github/Damsssdreams/Profile-saya-/blob/main/rangkuman_variabel_dan_tipe_data.ipynb\" target=\"_parent\"><img src=\"https://colab.research.google.com/assets/colab-badge.svg\" alt=\"Open In Colab\"/></a>"
      ]
    },
    {
      "cell_type": "markdown",
      "source": [
        " RANGKUMAN TENTANTANG VARIABEL DAN TIPE DATA DI BAHASA PEMROGRAMAN PYTHON"
      ],
      "metadata": {
        "id": "h0Wn-hlGuqXa"
      }
    },
    {
      "cell_type": "code",
      "source": [],
      "metadata": {
        "id": "UCLIs9T308ig"
      },
      "execution_count": null,
      "outputs": []
    },
    {
      "cell_type": "markdown",
      "source": [
        "Dokumen ini membahas tentang variabel dan tipe data dalam pemrograman Python. Berikut adalah rangkumannya:\n",
        "\n",
        "1. Variabel: Tempat untuk menyimpan data yang bersifat mutable (nilai dapat berubah). Variabel dibuat dengan format nama_variabel = <nilai> dan dapat dicetak menggunakan fungsi print.\n",
        "\n",
        "\n",
        "2. Aturan Penulisan Variabel:\n",
        "\n",
        "Nama variabel harus diawali dengan huruf atau garis bawah (_).\n",
        "\n",
        "Karakter selanjutnya bisa berupa huruf, angka, atau garis bawah.\n",
        "\n",
        "Nama variabel bersifat case-sensitive (misalnya, variabel_Ku berbeda dengan variabel_ku).\n",
        "\n",
        "Nama variabel tidak boleh menggunakan kata kunci Python seperti if, while, dll.\n",
        "\n",
        "Variabel dapat dihapus menggunakan fungsi del().\n",
        "\n",
        "\n",
        "\n",
        "3. Tipe Data: Jenis data yang dapat disimpan dalam variabel, seperti teks (string), angka (integer), dan boolean. Python mengenali tipe data secara otomatis, dan kita dapat memeriksa tipe data menggunakan fungsi type().\n",
        "\n",
        "\n",
        "4. Jenis-jenis Tipe Data:\n",
        "\n",
        "Angka: Dibagi menjadi int (bilangan bulat) dan float (bilangan desimal).\n",
        "\n",
        "Teks: Terdiri dari char (karakter tunggal) dan string (kumpulan karakter).\n",
        "\n",
        "Boolean: Memiliki nilai True atau False.\n",
        "\n",
        "\n",
        "\n",
        "5. Contoh Program: Menunjukkan cara penggunaan variabel dan tipe data dalam program Python untuk menyimpan informasi biodata sederhana.\n",
        "\n",
        "\n",
        "6. Konversi Tipe Data: Meskipun Python mendeteksi tipe data secara otomatis, kadang diperlukan konversi tipe data, seperti mengubah int menjadi float untuk mendapatkan hasil pembagian yang lebih presisi. Beberapa fungsi konversi adalah int(), float(), bool(), str(), bin(), dan hex()."
      ],
      "metadata": {
        "id": "fRMIOEUZvG5D"
      }
    },
    {
      "cell_type": "code",
      "source": [],
      "metadata": {
        "id": "LCFh9Yb43Vy3"
      },
      "execution_count": null,
      "outputs": []
    },
    {
      "cell_type": "code",
      "source": [
        "\n"
      ],
      "metadata": {
        "id": "JRQY4dbknyge"
      },
      "execution_count": null,
      "outputs": []
    },
    {
      "cell_type": "code",
      "source": [
        "usia=(20)\n",
        "type(usia)"
      ],
      "metadata": {
        "colab": {
          "base_uri": "https://localhost:8080/"
        },
        "id": "bOdYxkSpRDcj",
        "outputId": "f9b0bee9-17c2-4d38-e36b-b674745e034e"
      },
      "execution_count": null,
      "outputs": [
        {
          "output_type": "execute_result",
          "data": {
            "text/plain": [
              "int"
            ]
          },
          "metadata": {},
          "execution_count": 8
        }
      ]
    },
    {
      "cell_type": "code",
      "source": [],
      "metadata": {
        "id": "Xn6CJUbkqnhI"
      },
      "execution_count": null,
      "outputs": []
    },
    {
      "cell_type": "code",
      "source": [
        "tinggi_badan = 1.79\n",
        "type(tinggi_badan)"
      ],
      "metadata": {
        "colab": {
          "base_uri": "https://localhost:8080/"
        },
        "id": "S4oBM7XgTNfp",
        "outputId": "921503ab-4208-44f4-bb1a-d45867cdbd56"
      },
      "execution_count": null,
      "outputs": [
        {
          "output_type": "execute_result",
          "data": {
            "text/plain": [
              "float"
            ]
          },
          "metadata": {},
          "execution_count": 11
        }
      ]
    },
    {
      "cell_type": "code",
      "source": [
        "nama_panjang=(\"damar galih\")\n",
        "type(nama_panjang)"
      ],
      "metadata": {
        "colab": {
          "base_uri": "https://localhost:8080/"
        },
        "id": "GS0-Ra7ZTzQT",
        "outputId": "3a1e44e7-4796-4e0c-f317-a58574ac65b9"
      },
      "execution_count": null,
      "outputs": [
        {
          "output_type": "execute_result",
          "data": {
            "text/plain": [
              "str"
            ]
          },
          "metadata": {},
          "execution_count": 13
        }
      ]
    },
    {
      "cell_type": "code",
      "source": [
        "saya_ganteng=(True)\n",
        "type(saya_ganteng)"
      ],
      "metadata": {
        "colab": {
          "base_uri": "https://localhost:8080/"
        },
        "id": "yY1tcvv8UjB2",
        "outputId": "47d37ab3-04ca-463c-9a0d-5959ea58b510"
      },
      "execution_count": null,
      "outputs": [
        {
          "output_type": "execute_result",
          "data": {
            "text/plain": [
              "bool"
            ]
          },
          "metadata": {},
          "execution_count": 15
        }
      ]
    },
    {
      "cell_type": "markdown",
      "source": [
        "CONTOH"
      ],
      "metadata": {
        "id": "BZI8nLC_WFM4"
      }
    },
    {
      "cell_type": "code",
      "source": [
        "NAMA=(\"DAMAR\")\n",
        "UMUR=(17)\n",
        "TINGGI_BADAN=(1.70)\n",
        "MENIKAH=(False)\n",
        "#hasil\n",
        "print(NAMA)\n",
        "print(UMUR)\n",
        "print(TINGGI_BADAN)\n",
        "print(MENIKAH)"
      ],
      "metadata": {
        "colab": {
          "base_uri": "https://localhost:8080/"
        },
        "id": "qoMeuWQeWJqE",
        "outputId": "0d0934e5-6eb6-410b-98f9-4198d453d67d"
      },
      "execution_count": null,
      "outputs": [
        {
          "output_type": "stream",
          "name": "stdout",
          "text": [
            "DAMAR\n",
            "17\n",
            "1.7\n",
            "False\n"
          ]
        }
      ]
    }
  ]
}
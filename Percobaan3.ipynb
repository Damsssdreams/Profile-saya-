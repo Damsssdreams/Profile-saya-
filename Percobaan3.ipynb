{
  "nbformat": 4,
  "nbformat_minor": 0,
  "metadata": {
    "colab": {
      "private_outputs": true,
      "provenance": [],
      "authorship_tag": "ABX9TyMxlGxruq43bXaRxZUdoo8x",
      "include_colab_link": true
    },
    "kernelspec": {
      "name": "python3",
      "display_name": "Python 3"
    },
    "language_info": {
      "name": "python"
    }
  },
  "cells": [
    {
      "cell_type": "markdown",
      "metadata": {
        "id": "view-in-github",
        "colab_type": "text"
      },
      "source": [
        "<a href=\"https://colab.research.google.com/github/Damsssdreams/TugasDanMateri/blob/main/Percobaan3.ipynb\" target=\"_parent\"><img src=\"https://colab.research.google.com/assets/colab-badge.svg\" alt=\"Open In Colab\"/></a>"
      ]
    },
    {
      "cell_type": "code",
      "execution_count": null,
      "metadata": {
        "id": "Xtaxpaue9paJ"
      },
      "outputs": [],
      "source": [
        "\n",
        "club_bola1 = input(\"Masukkan nama club yang anda sukai: \")\n",
        "club_bola2 = input(\"Masukkan nama club yang teman anda sukai: \")\n",
        "\n",
        "Menang = bool(club_bola1) and bool(club_bola2)\n",
        "print(f\"Apakah {club_bola1} akan menang melawan {club_bola2} = {Menang}\")"
      ]
    }
  ]
}
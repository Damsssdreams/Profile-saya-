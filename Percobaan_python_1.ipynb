{
  "nbformat": 4,
  "nbformat_minor": 0,
  "metadata": {
    "colab": {
      "provenance": [],
      "authorship_tag": "ABX9TyNRxDtw1y/3X6qmTfmwZBl0",
      "include_colab_link": true
    },
    "kernelspec": {
      "name": "python3",
      "display_name": "Python 3"
    },
    "language_info": {
      "name": "python"
    }
  },
  "cells": [
    {
      "cell_type": "markdown",
      "metadata": {
        "id": "view-in-github",
        "colab_type": "text"
      },
      "source": [
        "<a href=\"https://colab.research.google.com/github/Damsssdreams/TugasDanMateri/blob/main/Percobaan_python_1.ipynb\" target=\"_parent\"><img src=\"https://colab.research.google.com/assets/colab-badge.svg\" alt=\"Open In Colab\"/></a>"
      ]
    },
    {
      "cell_type": "code",
      "execution_count": null,
      "metadata": {
        "id": "h3u9Ok_c9ZgL",
        "colab": {
          "base_uri": "https://localhost:8080/"
        },
        "outputId": "e0430dca-1fb8-4515-8cd5-9adfd3444356"
      },
      "outputs": [
        {
          "output_type": "stream",
          "name": "stdout",
          "text": [
            "masukkan nama orang jomok :Langit\n",
            "masukkan nama orang ke jomok ke 2 :Damar\n",
            "berapa persen jomok:%100\n",
            "Langit dengan Damar aslinya 100% jomok sekali\n"
          ]
        }
      ],
      "source": [
        " Nama_pelaku=input(\"masukkan nama orang jomok :\")\n",
        "nama_pelaku2=input(\"masukkan nama orang ke jomok ke 2 :\")\n",
        "berapa_persen=input(\"berapa persen jomok:%\")\n",
        "Hasil=(Nama_pelaku + \" dengan \" + nama_pelaku2 + \" aslinya \" + berapa_persen + \"% jomok sekali\")\n",
        "print(Hasil)"
      ]
    },
    {
      "cell_type": "code",
      "source": [],
      "metadata": {
        "id": "sXz5NQSlr3lg"
      },
      "execution_count": null,
      "outputs": []
    }
  ]
}